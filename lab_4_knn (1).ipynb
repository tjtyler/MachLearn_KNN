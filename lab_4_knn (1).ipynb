{
  "cells": [
    {
      "cell_type": "markdown",
      "metadata": {
        "id": "DVL7_bgmIAPR"
      },
      "source": [
        "# K-Nearest Neighbor Lab\n",
        "\n",
        "\n",
        "\n"
      ]
    },
    {
      "cell_type": "code",
      "execution_count": 1,
      "metadata": {
        "id": "6ZbYjZZZ_yLV"
      },
      "outputs": [],
      "source": [
        "from sklearn.base import BaseEstimator, ClassifierMixin\n",
        "from sklearn.neighbors import KNeighborsClassifier, KNeighborsRegressor\n",
        "import numpy as np\n",
        "import matplotlib.pyplot as plt\n"
      ]
    },
    {
      "cell_type": "code",
      "source": [
        "pip install ipdb"
      ],
      "metadata": {
        "id": "LiN5QbkRk5Qo"
      },
      "execution_count": null,
      "outputs": []
    },
    {
      "cell_type": "code",
      "source": [
        "from google.colab import drive\n",
        "drive.mount('/content/drive')"
      ],
      "metadata": {
        "colab": {
          "base_uri": "https://localhost:8080/"
        },
        "id": "eTeXAISqJGyu",
        "outputId": "1126cc08-428f-4444-c657-9bc29949bb7c"
      },
      "execution_count": 3,
      "outputs": [
        {
          "output_type": "stream",
          "name": "stdout",
          "text": [
            "Mounted at /content/drive\n"
          ]
        }
      ]
    },
    {
      "cell_type": "code",
      "source": [
        "import numpy as np\n",
        "import matplotlib.pyplot as plt\n",
        "\n",
        "def estimate_coef(x, y):\n",
        "\t# number of observations/points\n",
        "\tn = np.size(x)\n",
        "\n",
        "\t# mean of x and y vector\n",
        "\tm_x = np.mean(x)\n",
        "\tm_y = np.mean(y)\n",
        "\n",
        "\t# calculating cross-deviation and deviation about x\n",
        "\tSS_xy = np.sum(y*x) - n*m_y*m_x\n",
        "\tSS_xx = np.sum(x*x) - n*m_x*m_x\n",
        "\n",
        "\t# calculating regression coefficients\n",
        "\tb_1 = SS_xy / SS_xx\n",
        "\tb_0 = m_y - b_1*m_x\n",
        "\n",
        "\treturn (b_0, b_1)\n",
        "\n",
        "def plot_regression_line(x, y, b):\n",
        "\t# plotting the actual points as scatter plot\n",
        "\tplt.scatter(x, y, color = \"m\",\n",
        "\t\t\tmarker = \"o\", s = 30)\n",
        "\n",
        "\t# predicted response vector\n",
        "\ty_pred = b[0] + b[1]*x\n",
        "\n",
        "\t# plotting the regression line\n",
        "\tplt.plot(x, y_pred, color = \"g\")\n",
        "\n",
        "\t# putting labels\n",
        "\tplt.xlabel('x')\n",
        "\tplt.ylabel('y')\n",
        "\n",
        "\t# function to show plot\n",
        "\tplt.show()\n",
        "\n",
        "def main():\n",
        "\t# observations / data\n",
        "\t# x = np.array([.3,-.3,.9,1])\n",
        "\t# y = np.array([.8,1.6,0,1])\n",
        "\n",
        "  x = np.array([.3,-.3,.9,1])\n",
        "  y = np.array([.8,1.6,0,1])\n",
        "\n",
        "\t# estimating coefficients\n",
        "  b = estimate_coef(x, y)\n",
        "  print(\"Estimated coefficients:\\nb_0 = {} \\\n",
        "    \\nb_1 = {}\".format(b[0], b[1]))\n",
        "\n",
        "\t# plotting regression line\n",
        "  plot_regression_line(x, y, b)\n",
        "\n",
        "if __name__ == \"__main__\":\n",
        "\tmain()\n"
      ],
      "metadata": {
        "colab": {
          "base_uri": "https://localhost:8080/",
          "height": 331
        },
        "id": "QIE-ZbneqOT1",
        "outputId": "056f05a7-74da-4ce4-d08a-0577cd1efb97"
      },
      "execution_count": 4,
      "outputs": [
        {
          "output_type": "stream",
          "name": "stdout",
          "text": [
            "Estimated coefficients:\n",
            "b_0 = 1.223448275862069     \n",
            "b_1 = -0.7862068965517242\n"
          ]
        },
        {
          "output_type": "display_data",
          "data": {
            "text/plain": [
              "<Figure size 432x288 with 1 Axes>"
            ],
            "image/png": "[encoded data removed]"
          },
          "metadata": {
            "needs_background": "light"
          }
        }
      ]
    },
    {
      "cell_type": "markdown",
      "metadata": {
        "id": "sCcEPx5VIORj"
      },
      "source": [
        "## 1. (40%) Correctly implement the k-nearest neighbor (KNN) algorithm and the KNN regression algorithm\n",
        "\n",
        "### Code requirements\n",
        "- Use Euclidean distance to decide closest neighbors. \n",
        "- Include optional distance weighting for both algorithms\n"
      ]
    },
    {
      "cell_type": "code",
      "execution_count": 5,
      "metadata": {
        "id": "_a2KSZ_7AN0G"
      },
      "outputs": [],
      "source": [
        "# import ipdb; \n",
        "class KNNClassifier(BaseEstimator,ClassifierMixin):\n",
        "    def __init__(self, Type='classification', columntype=[], weight_type='inverse_distance'): ## add parameters here\n",
        "        \"\"\"\n",
        "        Args:\n",
        "            columntype for each column tells you if continues[real] or if nominal[categoritcal].\n",
        "            weight_type: inverse_distance voting or if non distance weighting. Options = [\"no_weight\",\"inverse_distance\"]\n",
        "        \"\"\"\n",
        "        self.columntype = columntype #Note This won't be needed until part 5\n",
        "        self.weight_type = weight_type\n",
        "        self.Type = Type\n",
        "\n",
        "    def fit(self, X, y, k=3):\n",
        "        \"\"\" Fit the data; run the algorithm (for this lab really just saves the data :D)\n",
        "        Args:\n",
        "            X (array-like): A 2D numpy array with the training data, excluding targets\n",
        "            y (array-like): A 2D numpy array with the training targets\n",
        "        Returns:\n",
        "            self: this allows this to be chained, e.g. model.fit(X,y).predict(X_test)\n",
        "        \"\"\"\n",
        "        self.X = X # 2D numpy array\n",
        "        self.y = y # 1D numpy array\n",
        "        self.k = k # int\n",
        "\n",
        "        return self\n",
        "    \n",
        "    def predict(self, X):\n",
        "        \"\"\" Predict all classes for a dataset X\n",
        "        Args:\n",
        "            X (array-like): A 2D numpy array with the training data, excluding targets\n",
        "        Returns:\n",
        "            array, shape (n_samples,)\n",
        "                Predicted target values per element in X.\n",
        "        \"\"\"\n",
        "        predictions = []\n",
        "        for i in range(X.shape[0]):\n",
        "          inst = X[i]\n",
        "          # ipdb.set_trace()\n",
        "          dists = self.calc_euclid_dist(self.X, inst=inst) \n",
        "          neighbors = np.argsort(dists)[:self.k]\n",
        "          dists = dists[neighbors]\n",
        "          y = self.y[neighbors] \n",
        "          wts = np.ones_like(y)\n",
        "\n",
        "          if self.weight_type == 'inverse_distance':\n",
        "            wts = 1/np.square(dists) \n",
        "            if self.columntype[-1] == 'cat':\n",
        "              wt_sums = np.bincount(y, wts)\n",
        "              if self.Type == 'classification': \n",
        "                pred = wt_sums.argmax()\n",
        "                predictions.append(pred)\n",
        "            else:\n",
        "              pred = wts @ y\n",
        "              pred = pred / np.sum(wts)\n",
        "              predictions.append(pred)\n",
        "              \n",
        "          else:\n",
        "            if self.columntype[-1] == 'cat':\n",
        "              cls_counts = np.bincount(y)\n",
        "              pred = cls_counts.argmax()\n",
        "              predictions.append(pred)\n",
        "            else:\n",
        "              pred = np.mean(y)\n",
        "              predictions.append(pred)\n",
        "            \n",
        "\n",
        "        return predictions\n",
        "\n",
        "    def calc_euclid_dist(self, X, inst):\n",
        "      return np.linalg.norm(X - inst, axis=1)\n",
        "\n",
        "    def score(self, X, y):\n",
        "        \"\"\" Return accuracy of model on a given dataset. Must implement own score function.\n",
        "        Args:\n",
        "            X (array-like): A 2D numpy array with data, excluding targets\n",
        "            y (array-like): A 2D numpy array with targets\n",
        "        Returns:\n",
        "            score : float\n",
        "                Mean accuracy of self.predict(X) wrt. y.\n",
        "        \"\"\"\n",
        "        predictions = self.predict(X=X)\n",
        "        score = 0\n",
        "        for i in range(len(predictions)):\n",
        "          if y[i] == predictions[i]:\n",
        "            score += 1\n",
        "        return score / len(predictions)\n",
        "        \n",
        "    def score_mse(self, X, y):\n",
        "        \"\"\" Return accuracy of model on a given dataset. Must implement own score function.\n",
        "        Args:\n",
        "            X (array-like): A 2D numpy array with data, excluding targets\n",
        "            y (array-like): A 2D numpy array with targets\n",
        "        Returns:\n",
        "            score : float\n",
        "                Mean accuracy of self.predict(X) wrt. y.\n",
        "        \"\"\"\n",
        "        predictions = self.predict(X=X)\n",
        "        predictions = np.array(predictions)\n",
        "        return ((predictions - y)**2).mean()"
      ]
    },
    {
      "cell_type": "markdown",
      "metadata": {
        "id": "ZkIIsoyQUR6-"
      },
      "source": [
        "## 1.1 Debug and Evaluation\n",
        "\n",
        "Debug and Evaluate your model using the parameters below:\n",
        "\n",
        "- Use distance weighting\n",
        "- KNN = 3 (three nearest neighbors)\n",
        "- Don’t normalize the data\n",
        "- Use Euclidean Distance\n",
        "\n",
        "---\n",
        "\n",
        "### 1.1.1 Debug\n",
        "\n",
        "- Use this [glass training set](https://byu.instructure.com/courses/14142/files?preview=4660939) and this [glass test set](https://byu.instructure.com/courses/14142/files?preview=4660941)\n",
        "- Use distance weighting\n",
        "- KNN = 3 (three nearest neighbors)\n",
        "- Don’t normalize the data\n",
        "- Use Euclidean Distance\n",
        "\n",
        "Expected Results:\n",
        "- Not using inverse weighted distancing = roughly [68.29%]\n",
        "- Link to [glass no_inverse debug solution](https://byu.instructure.com/courses/14142/files?preview=4660947)\n",
        "\n",
        "- Using inverse weighted distancing = roughly [74.39%]\n",
        "- Link to [glass inverse debug solution](https://byu.instructure.com/courses/14142/files?preview=4660954)\n"
      ]
    },
    {
      "cell_type": "code",
      "execution_count": 9,
      "metadata": {
        "id": "1MJ5e5PVUR6_",
        "colab": {
          "base_uri": "https://localhost:8080/"
        },
        "outputId": "e910bf86-8b70-42a9-9181-4c7330bce3a9"
      },
      "outputs": [
        {
          "output_type": "stream",
          "name": "stdout",
          "text": [
            "no weighting accuracy:  0.6829268292682927\n",
            "inverse weighting accuracy:  0.7439024390243902\n"
          ]
        }
      ],
      "source": [
        "from scipy.io.arff import loadarff \n",
        "import pandas as pd\n",
        "from sklearn.preprocessing import LabelEncoder\n",
        "# Load glass data\n",
        "raw_data = loadarff('/content/drive/MyDrive/School/CS_472_MachLearning/labs/lab4_kNN/data/glass_train.arff')\n",
        "df_data = pd.DataFrame(raw_data[0])\n",
        "\n",
        "np_arr = df_data.to_numpy()\n",
        "enc = LabelEncoder()\n",
        "\n",
        "X_train = np_arr[:,:-1].astype(float)\n",
        "y_train = enc.fit_transform(np_arr[:,-1]) # 1D array\n",
        "\n",
        "# Train on training set\n",
        "col_type=['real']*10\n",
        "col_type[9] = 'cat'\n",
        "knn = KNNClassifier(Type='classification',columntype=col_type, weight_type=\"no_weight\")\n",
        "knn.fit(X=X_train, y=y_train, k=3)\n",
        "\n",
        "knn_wt = KNNClassifier(Type='classification',columntype=col_type)\n",
        "knn_wt.fit(X=X_train, y=y_train, k=3)\n",
        "# Predict on test set\n",
        "raw_data = loadarff('/content/drive/MyDrive/School/CS_472_MachLearning/labs/lab4_kNN/data/glass_test.arff')\n",
        "df_data = pd.DataFrame(raw_data[0])\n",
        "np_arr = df_data.to_numpy()\n",
        "\n",
        "X_test = np_arr[:,:-1].astype(float)\n",
        "y_test = enc.fit_transform(np_arr[:,-1])\n",
        "\n",
        "print('no weighting accuracy: ', knn.score(X=X_test,y=y_test))\n",
        "print('inverse weighting accuracy: ', knn_wt.score(X=X_test,y=y_test))\n"
      ]
    },
    {
      "cell_type": "markdown",
      "metadata": {
        "id": "gkIvGrf8UR6_"
      },
      "source": [
        "### 1.1.2 Evaluate\n",
        "\n",
        "We will evaluate your model based on its performance on the [diabetes](https://archive.ics.uci.edu/ml/datasets/Diabetes) problem.\n",
        "- Use this [diabetes training set](https://byu.instructure.com/courses/14142/files?preview=4660977) and this [diabetes test set](https://byu.instructure.com/courses/14142/files?preview=4660978)"
      ]
    },
    {
      "cell_type": "code",
      "execution_count": 11,
      "metadata": {
        "id": "Zkg5yWHbUR7A",
        "colab": {
          "base_uri": "https://localhost:8080/"
        },
        "outputId": "30aa1c1a-efd3-4534-ac0c-1b4d3f31168f"
      },
      "outputs": [
        {
          "output_type": "stream",
          "name": "stdout",
          "text": [
            "no weighting accuracy:  0.8411458333333334\n",
            "inverse weighting accuracy:  0.890625\n"
          ]
        }
      ],
      "source": [
        "from scipy.io.arff import loadarff \n",
        "import pandas as pd\n",
        "from sklearn.preprocessing import LabelEncoder\n",
        "# Load diabetes data\n",
        "raw_data = loadarff('/content/drive/MyDrive/School/CS_472_MachLearning/labs/lab4_kNN/data/diabetes_train.arff')\n",
        "df_data = pd.DataFrame(raw_data[0])\n",
        "\n",
        "np_arr = df_data.to_numpy()\n",
        "enc = LabelEncoder()\n",
        "\n",
        "X_train = np_arr[:,:-1].astype(float)\n",
        "y_train = enc.fit_transform(np_arr[:,-1]) # 1D array\n",
        "\n",
        "col_type=['real']*9\n",
        "col_type[8] = 'cat'\n",
        "# Train on training set\n",
        "knn = KNNClassifier(Type='classification',columntype=col_type, weight_type=\"no_weight\")\n",
        "knn.fit(X=X_train, y=y_train, k=3)\n",
        "\n",
        "knn_wt = KNNClassifier(Type='classification',columntype=col_type)\n",
        "knn_wt.fit(X=X_train, y=y_train, k=3)\n",
        "# Predict on test set\n",
        "raw_data = loadarff('/content/drive/MyDrive/School/CS_472_MachLearning/labs/lab4_kNN/data/diabetes_test.arff')\n",
        "df_data = pd.DataFrame(raw_data[0])\n",
        "np_arr = df_data.to_numpy()\n",
        "\n",
        "X_test = np_arr[:,:-1].astype(float)\n",
        "y_test = enc.fit_transform(np_arr[:,-1])\n",
        "\n",
        "print('no weighting accuracy: ', knn.score(X=X_test,y=y_test))\n",
        "print('inverse weighting accuracy: ', knn_wt.score(X=X_test,y=y_test))"
      ]
    },
    {
      "cell_type": "markdown",
      "metadata": {
        "id": "9vWiTdlbR2Xh"
      },
      "source": [
        "## 2. (10%) Use the k-nearest neighbor algorithm (without distance weighting) for the [magic telescope](http://archive.ics.uci.edu/ml/datasets/MAGIC+Gamma+Telescope) problem\n",
        "\n",
        "- Use this [magic telescope training set](https://byu.instructure.com/courses/14142/files?preview=4660988) and this [magic telescope test set](https://byu.instructure.com/courses/14142/files?preview=4660989) \n",
        "\n",
        "### 2.1\n",
        "- Try it with k=3 and without normalization\n"
      ]
    },
    {
      "cell_type": "code",
      "execution_count": 12,
      "metadata": {
        "id": "4SSoasDQSKXb",
        "colab": {
          "base_uri": "https://localhost:8080/"
        },
        "outputId": "7b7f2321-c52d-492f-dcc3-ca2f833d6744"
      },
      "outputs": [
        {
          "output_type": "stream",
          "name": "stdout",
          "text": [
            "no weighting accuracy:  0.8082808280828083\n"
          ]
        }
      ],
      "source": [
        "from scipy.io.arff import loadarff \n",
        "import pandas as pd\n",
        "from sklearn.preprocessing import LabelEncoder\n",
        "# Load magic telescope data\n",
        "raw_data = loadarff('/content/drive/MyDrive/School/CS_472_MachLearning/labs/lab4_kNN/data/magic_telescope_train.arff')\n",
        "df_data = pd.DataFrame(raw_data[0])\n",
        "\n",
        "np_arr = df_data.to_numpy()\n",
        "enc = LabelEncoder()\n",
        "\n",
        "X_train = np_arr[:,:-1].astype(float)\n",
        "y_train = enc.fit_transform(np_arr[:,-1]) # 1D array\n",
        "\n",
        "col_type=['real']*11\n",
        "col_type[10] = 'cat'\n",
        "# Train/Predict without normalization\n",
        "\n",
        "knn = KNNClassifier(Type='classification',columntype=col_type, weight_type=\"no_weight\")\n",
        "knn.fit(X=X_train, y=y_train, k=3)\n",
        "\n",
        "knn_wt = KNNClassifier(Type='classification',columntype=col_type)\n",
        "knn_wt.fit(X=X_train, y=y_train, k=3)\n",
        "\n",
        "# Predict on test set\n",
        "raw_data = loadarff('/content/drive/MyDrive/School/CS_472_MachLearning/labs/lab4_kNN/data/magic_telescope_test.arff')\n",
        "df_data = pd.DataFrame(raw_data[0])\n",
        "np_arr = df_data.to_numpy()\n",
        "\n",
        "X_test = np_arr[:,:-1].astype(float)\n",
        "y_test = enc.fit_transform(np_arr[:,-1])\n",
        "\n",
        "print('no weighting accuracy: ', knn.score(X=X_test,y=y_test))\n"
      ]
    },
    {
      "cell_type": "markdown",
      "metadata": {
        "id": "9IxDxrIAUR7B"
      },
      "source": [
        "### 2.2\n",
        "- Try it with k=3 and with normalization (input features normalized between 0 and 1). Use the normalization formula (x-xmin)/(xmax-xmin)"
      ]
    },
    {
      "cell_type": "code",
      "execution_count": 13,
      "metadata": {
        "id": "4HFmpuf7UR7B",
        "colab": {
          "base_uri": "https://localhost:8080/"
        },
        "outputId": "d536d1b6-ca14-41ca-950e-c5718eb337c6"
      },
      "outputs": [
        {
          "output_type": "stream",
          "name": "stdout",
          "text": [
            "no weighting accuracy:  0.8306330633063307\n"
          ]
        }
      ],
      "source": [
        "# Train/Predict with normalization\n",
        "from scipy.io.arff import loadarff \n",
        "import pandas as pd\n",
        "from sklearn.preprocessing import LabelEncoder\n",
        "from sklearn.preprocessing import MinMaxScaler\n",
        "# Load magic telescope data\n",
        "raw_data = loadarff('/content/drive/MyDrive/School/CS_472_MachLearning/labs/lab4_kNN/data/magic_telescope_train.arff')\n",
        "df_data = pd.DataFrame(raw_data[0])\n",
        "\n",
        "np_arr = df_data.to_numpy()\n",
        "enc = LabelEncoder()\n",
        "scaler = MinMaxScaler()\n",
        "\n",
        "X_train = np_arr[:,:-1].astype(float)\n",
        "X_train = scaler.fit_transform(X_train)\n",
        "y_train = enc.fit_transform(np_arr[:,-1]) # 1D array\n",
        "\n",
        "col_type=['real']*11\n",
        "col_type[10] = 'cat'\n",
        "\n",
        "# Train on training set\n",
        "knn = KNNClassifier(Type='classification',columntype=col_type, weight_type=\"no_weight\")\n",
        "knn.fit(X=X_train, y=y_train, k=3)\n",
        "\n",
        "# knn_wt = KNNClassifier(Type='classification',columntype=['real'*9])\n",
        "# knn_wt.fit(X=X_train, y=y_train, k=3)\n",
        "\n",
        "# Predict on test set\n",
        "raw_data = loadarff('/content/drive/MyDrive/School/CS_472_MachLearning/labs/lab4_kNN/data/magic_telescope_test.arff')\n",
        "df_data = pd.DataFrame(raw_data[0])\n",
        "np_arr = df_data.to_numpy()\n",
        "\n",
        "X_test = np_arr[:,:-1].astype(float)\n",
        "X_test = scaler.transform(X_test)\n",
        "y_test = enc.fit_transform(np_arr[:,-1])\n",
        "\n",
        "print('no weighting accuracy: ', knn.score(X=X_test,y=y_test))\n",
        "# print('inverse weighting accuracy: ', knn_wt.score(X=X_test,y=y_test))"
      ]
    },
    {
      "cell_type": "markdown",
      "metadata": {
        "id": "-S3vCEV8UR7C"
      },
      "source": [
        "*Discuss the accuracy results of using normalized data vs. unnormalized data*"
      ]
    },
    {
      "cell_type": "markdown",
      "source": [
        "as can be seen from the output of the 2 cells above, normalizing the magic telescope data did improve the prediciton accuracy, but only by about 2%. Although it seems small (2%), it could make a significant impact on a project so it is best to normalize your data."
      ],
      "metadata": {
        "id": "7atTm0l3kUiE"
      }
    },
    {
      "cell_type": "markdown",
      "metadata": {
        "id": "ojw1lbIaUR7C"
      },
      "source": [
        "### 2.3\n",
        "\n",
        "- Using your normalized data, create one graph with classification accuracy on the test set over k values. \n",
        "    - Use odd values of k from 1 to 15.\n",
        "- As a rough sanity check, typical knn accuracies for the magic telescope data set are 75-85%"
      ]
    },
    {
      "cell_type": "code",
      "execution_count": null,
      "metadata": {
        "id": "k9VWD499UR7C",
        "colab": {
          "base_uri": "https://localhost:8080/",
          "height": 296
        },
        "outputId": "3254b65a-cab8-47fd-d3c9-0aa709ef736c"
      },
      "outputs": [
        {
          "output_type": "execute_result",
          "data": {
            "text/plain": [
              "<matplotlib.axes._subplots.AxesSubplot at 0x7fdf1713ec10>"
            ]
          },
          "metadata": {},
          "execution_count": 19
        },
        {
          "output_type": "display_data",
          "data": {
            "text/plain": [
              "<Figure size 432x288 with 1 Axes>"
            ],
            "image/png": "[encoded data removed]"
          },
          "metadata": {
            "needs_background": "light"
          }
        }
      ],
      "source": [
        "from scipy.io.arff import loadarff \n",
        "import pandas as pd\n",
        "from sklearn.preprocessing import LabelEncoder\n",
        "from sklearn.preprocessing import MinMaxScaler\n",
        "# Train/Predict with normalization using k=1,3,...,15\n",
        "accuracies = []\n",
        "ks = [1,3,5,7,9,11,13,15]\n",
        "col_type=['real']*11\n",
        "col_type[10] = 'cat'\n",
        "\n",
        "for i in range(1,16,2):\n",
        "  # Load magic telescope data\n",
        "  raw_data = loadarff('/content/drive/MyDrive/School/CS_472_MachLearning/labs/lab4_kNN/data/magic_telescope_train.arff')\n",
        "  df_data = pd.DataFrame(raw_data[0])\n",
        "\n",
        "  np_arr = df_data.to_numpy()\n",
        "  enc = LabelEncoder()\n",
        "  scaler = MinMaxScaler()\n",
        "\n",
        "  X_train = np_arr[:,:-1].astype(float)\n",
        "  X_train = scaler.fit_transform(X_train)\n",
        "  y_train = enc.fit_transform(np_arr[:,-1]) \n",
        "  # Train on training set\n",
        "  knn = KNNClassifier(Type='classification',columntype=col_type, weight_type=\"no_weight\")\n",
        "  knn.fit(X=X_train, y=y_train, k=i)\n",
        "\n",
        "  raw_data = loadarff('/content/drive/MyDrive/School/CS_472_MachLearning/labs/lab4_kNN/data/magic_telescope_test.arff')\n",
        "  df_data = pd.DataFrame(raw_data[0])\n",
        "  np_arr = df_data.to_numpy()\n",
        "\n",
        "  X_test = np_arr[:,:-1].astype(float)\n",
        "  X_test = scaler.transform(X_test)\n",
        "  y_test = enc.fit_transform(np_arr[:,-1])\n",
        "\n",
        "  accuracies.append(knn.score(X=X_test,y=y_test))\n",
        "\n",
        "dictionary = {'Ks': ks, \"Accuracies\": accuracies}\n",
        "df = pd.DataFrame(dictionary)\n",
        "\n",
        "# Graph classification accuracy over k\n",
        "df.plot(x ='Ks', y='Accuracies', kind = 'line')"
      ]
    },
    {
      "cell_type": "markdown",
      "metadata": {
        "id": "shD7pFHsUR7D"
      },
      "source": [
        "# For the rest of the experiments use only normalized data"
      ]
    },
    {
      "cell_type": "markdown",
      "metadata": {
        "id": "SIRG42TgSR4x"
      },
      "source": [
        "## 3. (10%) Use the regression variation of your algorithm (without distance weighting) for the [housing price prediction](https://www.cs.toronto.edu/~delve/data/boston/bostonDetail.html) problem.\n",
        "\n",
        "- Use this [housing training set](https://byu.instructure.com/courses/14142/files?preview=4660994) and this [housing test set](https://byu.instructure.com/courses/14142/files?preview=4660995).\n",
        "- Use Mean Square Error (MSE) on the test set as your accuracy metric for this case.\n",
        "    - Do not normalize regression output values\n",
        "- Graph MSE on the test set with odd values of k from 1 to 15\n"
      ]
    },
    {
      "cell_type": "code",
      "execution_count": 37,
      "metadata": {
        "id": "KBGUn43ASiXW",
        "colab": {
          "base_uri": "https://localhost:8080/",
          "height": 314
        },
        "outputId": "ad26510e-5a98-4192-98f0-4ad672c0fa7e"
      },
      "outputs": [
        {
          "output_type": "stream",
          "name": "stdout",
          "text": [
            "best mse @ k = 5:  15.89698039215686\n"
          ]
        },
        {
          "output_type": "execute_result",
          "data": {
            "text/plain": [
              "<matplotlib.axes._subplots.AxesSubplot at 0x7f4f50569650>"
            ]
          },
          "metadata": {},
          "execution_count": 37
        },
        {
          "output_type": "display_data",
          "data": {
            "text/plain": [
              "<Figure size 432x288 with 1 Axes>"
            ],
            "image/png": "[encoded data removed]"
          },
          "metadata": {
            "needs_background": "light"
          }
        }
      ],
      "source": [
        "# Graph MSE over k\n",
        "\n",
        "from scipy.io.arff import loadarff \n",
        "import pandas as pd\n",
        "from sklearn.preprocessing import LabelEncoder\n",
        "from sklearn.preprocessing import MinMaxScaler\n",
        "# Train/Predict with normalization using k=1,3,...,15\n",
        "MSEs = []\n",
        "ks = [1,3,5,7,9,11,13,15]\n",
        "\n",
        "# Load housing price prediction data\n",
        "raw_data = loadarff('/content/drive/MyDrive/School/CS_472_MachLearning/labs/lab4_kNN/data/housing_train.arff')\n",
        "df_data = pd.DataFrame(raw_data[0])\n",
        "\n",
        "np_arr = df_data.to_numpy()\n",
        "scaler = MinMaxScaler()\n",
        "\n",
        "X_train = np_arr[:,:-1].astype(float)\n",
        "X_train = scaler.fit_transform(X_train)\n",
        "y_train = np_arr[:,-1]\n",
        "\n",
        "raw_data = loadarff('/content/drive/MyDrive/School/CS_472_MachLearning/labs/lab4_kNN/data/housing_test.arff')\n",
        "df_data = pd.DataFrame(raw_data[0])\n",
        "np_arr = df_data.to_numpy()\n",
        "\n",
        "X_test = np_arr[:,:-1].astype(float)\n",
        "X_test = scaler.transform(X_test)\n",
        "y_test = np_arr[:,-1]\n",
        "col_type = ['real']*14\n",
        "col_type[3] = 'cat'\n",
        "\n",
        "for i in range(1,16,2):\n",
        "\n",
        "  # Train on training set\n",
        "  knn = KNNClassifier(Type='classification',columntype=col_type, weight_type=\"no_weight\")\n",
        "  knn.fit(X=X_train, y=y_train, k=i)\n",
        "\n",
        "  MSEs.append(knn.score_mse(X=X_test,y=y_test))\n",
        "\n",
        "dictionary = {'Ks': ks, \"MSEs\": MSEs}\n",
        "df = pd.DataFrame(dictionary)\n",
        "\n",
        "knn = KNNClassifier(Type='classification',columntype=col_type, weight_type=\"no_weight\")\n",
        "knn.fit(X=X_train, y=y_train, k=5)\n",
        "print('best mse @ k = 5: ', knn.score_mse(X_test,y_test))\n",
        "# Graph classification accuracy over k\n",
        "df.plot(x ='Ks', y='MSEs', kind = 'line')"
      ]
    },
    {
      "cell_type": "markdown",
      "metadata": {
        "id": "v19fpixqTe-7"
      },
      "source": [
        "## 4. (15%) Repeat your experiments for magic telescope and housing using distance-weighted (inverse of distance squared) voting and discuss your results.\n"
      ]
    },
    {
      "cell_type": "markdown",
      "metadata": {
        "id": "69R5jwdCUR7E"
      },
      "source": [
        "## 4.1 Magic Telescope Dataset"
      ]
    },
    {
      "cell_type": "code",
      "execution_count": 34,
      "metadata": {
        "id": "ZCPFUAGTS2sX",
        "colab": {
          "base_uri": "https://localhost:8080/"
        },
        "outputId": "bdd507fa-8974-45f6-b6f6-b3a0075430f8"
      },
      "outputs": [
        {
          "output_type": "stream",
          "name": "stderr",
          "text": [
            "/usr/local/lib/python3.7/dist-packages/ipykernel_launcher.py:46: RuntimeWarning: divide by zero encountered in true_divide\n"
          ]
        },
        {
          "output_type": "stream",
          "name": "stdout",
          "text": [
            "inverse weighting accuracy:  0.8310831083108311\n"
          ]
        }
      ],
      "source": [
        "# Train/Predict magic telescope using distance-weighted voting\n",
        "# Train/Predict with normalization\n",
        "from scipy.io.arff import loadarff \n",
        "import pandas as pd\n",
        "from sklearn.preprocessing import LabelEncoder\n",
        "from sklearn.preprocessing import MinMaxScaler\n",
        "# Load magic telescope data\n",
        "raw_data = loadarff('/content/drive/MyDrive/School/CS_472_MachLearning/labs/lab4_kNN/data/magic_telescope_train.arff')\n",
        "df_data = pd.DataFrame(raw_data[0])\n",
        "\n",
        "np_arr = df_data.to_numpy()\n",
        "enc = LabelEncoder()\n",
        "scaler = MinMaxScaler()\n",
        "\n",
        "col_type=['real']*11\n",
        "col_type[10] = 'cat'\n",
        "\n",
        "X_train = np_arr[:,:-1].astype(float)\n",
        "X_train = scaler.fit_transform(X_train)\n",
        "y_train = enc.fit_transform(np_arr[:,-1]) # 1D array\n",
        "# Train on training set\n",
        "knn_wt = KNNClassifier(Type='classification',columntype=col_type)\n",
        "knn_wt.fit(X=X_train, y=y_train, k=3)\n",
        "\n",
        "# Predict on test set\n",
        "raw_data = loadarff('/content/drive/MyDrive/School/CS_472_MachLearning/labs/lab4_kNN/data/magic_telescope_test.arff')\n",
        "df_data = pd.DataFrame(raw_data[0])\n",
        "np_arr = df_data.to_numpy()\n",
        "\n",
        "X_test = np_arr[:,:-1].astype(float)\n",
        "X_test = scaler.transform(X_test)\n",
        "y_test = enc.fit_transform(np_arr[:,-1])\n",
        "\n",
        "print('inverse weighting accuracy: ', knn_wt.score(X=X_test,y=y_test))"
      ]
    },
    {
      "cell_type": "markdown",
      "metadata": {
        "id": "3bPS41IIUR7E"
      },
      "source": [
        "## 4.2 Housing Dataset"
      ]
    },
    {
      "cell_type": "code",
      "execution_count": 38,
      "metadata": {
        "id": "YkqwfZ0AUR7E",
        "colab": {
          "base_uri": "https://localhost:8080/"
        },
        "outputId": "bf8f6542-c461-447b-c2f4-695b8856b1fe"
      },
      "outputs": [
        {
          "output_type": "stream",
          "name": "stdout",
          "text": [
            "inverse weighting mse:  12.119627591906239\n"
          ]
        }
      ],
      "source": [
        "# Train/Predict with normalization\n",
        "from scipy.io.arff import loadarff \n",
        "import pandas as pd\n",
        "from sklearn.preprocessing import LabelEncoder\n",
        "from sklearn.preprocessing import MinMaxScaler\n",
        "# Load magic telescope data\n",
        "raw_data = loadarff('/content/drive/MyDrive/School/CS_472_MachLearning/labs/lab4_kNN/data/housing_train.arff')\n",
        "df_data = pd.DataFrame(raw_data[0])\n",
        "\n",
        "np_arr = df_data.to_numpy()\n",
        "scaler = MinMaxScaler()\n",
        "np_arr[:, :-1] = scaler.fit_transform(np_arr[:, :-1])\n",
        "\n",
        "X_train = np_arr[:,:-1].astype(float)\n",
        "# X_train = scaler.fit_transform(X_train)\n",
        "y_train = np_arr[:,-1]\n",
        "\n",
        "raw_data = loadarff('/content/drive/MyDrive/School/CS_472_MachLearning/labs/lab4_kNN/data/housing_test.arff')\n",
        "df_data = pd.DataFrame(raw_data[0])\n",
        "np_arr = df_data.to_numpy()\n",
        "np_arr[:, :-1] = scaler.transform(np_arr[:, :-1])\n",
        "\n",
        "X_test = np_arr[:,:-1].astype(float)\n",
        "# X_test = scaler.transform(X_test)\n",
        "y_test = np_arr[:,-1]\n",
        "\n",
        "col_type = ['real']*14\n",
        "col_type[3] = 'cat'\n",
        "# Train on training set\n",
        "knn_wt = KNNClassifier(Type='classification',columntype=col_type,weight_type='inverse_distance')\n",
        "knn_wt.fit(X=X_train, y=y_train, k=5)\n",
        "\n",
        "# Predict on test set\n",
        "print('inverse weighting mse: ', knn_wt.score_mse(X=X_test,y=y_test))"
      ]
    },
    {
      "cell_type": "markdown",
      "metadata": {
        "id": "HP459vycUR7F"
      },
      "source": [
        "*Discuss your results*"
      ]
    },
    {
      "cell_type": "markdown",
      "source": [
        "for the magic telescope data, using inverse distance weighting improved the accuracy of the prediction by little (from 83.06% to 83.12%). Therefore, for the magic telescope data I don't know if we can say that iverse distance weighting improves accuracy significantly. \n",
        "\n",
        "For the housing data, the lowest MSE occured at k = 5 with the mse = 15.89. Inverse distance weighting for this housing data did seem to have a significant impact on the accuracy, with the MSE at k = 5 being 12.12 < 15.89."
      ],
      "metadata": {
        "id": "drI02_VGmOa6"
      }
    },
    {
      "cell_type": "markdown",
      "metadata": {
        "id": "s-Oh86EgUR7F"
      },
      "source": [
        "## 5. (10%) Use the k-nearest neighbor algorithm to solve the [credit-approval](https://archive.ics.uci.edu/ml/datasets/Credit+Approval) (credit-a) problem.\n",
        "\n",
        "- Use this [credit approval dataset](https://byu.instructure.com/courses/14142/files?preview=4660998)\n",
        "    - Use a 70/30 split of the data for the training/test set\n",
        "- Note that this set has both continuous and nominal attributes, together with don’t know values. \n",
        "- Implement and justify a distance metric which supports continuous, nominal, and don’t know attribute values\n",
        "    - You need to handle don't knows with the distance metric, not by imputing a value.\n",
        "    - More information on distance metrics can be found [here](https://www.jair.org/index.php/jair/article/view/10182/24168).\n",
        "- Use your own choice for k.\n",
        "- As a rough sanity check, typical knn accuracies for the credit data set are 70-80%.\n"
      ]
    },
    {
      "cell_type": "code",
      "source": [
        "import random\n",
        "def getSplit(arr,dec):\n",
        "  \"\"\"\n",
        "  the 'arr' arguement should be the full numpy array before it is split into X and y\n",
        "  \"\"\"\n",
        "  # THE NAMES OF THESE VARIABLES ARE AS IF THE SPLIT IS 80/20 BUT IT WORKS FOR ANY PERCENT BASED ON DEC (which is a decimal value)\n",
        "  rand_start_index = random.randint(0,arr.shape[0]-1)\n",
        "  num_vals_80 = round((arr.shape[0])*dec)\n",
        "  num_vals_20 = arr.shape[0] - num_vals_80\n",
        "  arr_80_combined = None\n",
        "  arr_20 = None\n",
        "  if (rand_start_index + num_vals_80) >= arr.shape[0]: # if the starting index (row) + the number of rows we need to make 80% of the rows >= the number of rows in arr\n",
        "    num_vals_from_start = (rand_start_index + num_vals_80) - arr.shape[0] - 1 # the number of rows past the last row (back to the first row) that we need to make 80%\n",
        "    arr_80_pt1 = arr[:num_vals_from_start,:] # part1 of the 80%_array from row[0] to row[num_vals_from_start - 1]\n",
        "    arr_80_pt2 = arr[rand_start_index:,:] # part2 of the 80%_array from the rand_start_index (row) to the last index (row)\n",
        "    arr_80_combined = np.concatenate((arr_80_pt1,arr_80_pt2), axis=0)\n",
        "    arr_20 = arr[num_vals_from_start:rand_start_index,:] # 20%_array is everything in between\n",
        "  else:\n",
        "    arr_80_combined = arr[rand_start_index:num_vals_80,:]\n",
        "    arr_20 = arr[num_vals_80:,:]\n",
        "  return arr_80_combined, arr_20"
      ],
      "metadata": {
        "id": "WwuevepDgSbr"
      },
      "execution_count": 39,
      "outputs": []
    },
    {
      "cell_type": "code",
      "execution_count": 79,
      "metadata": {
        "id": "ZS__-AMWUR7F",
        "colab": {
          "base_uri": "https://localhost:8080/"
        },
        "outputId": "0c86552a-4935-455a-804c-6d4081ec6374"
      },
      "outputs": [
        {
          "output_type": "stream",
          "name": "stdout",
          "text": [
            "inverse weighting accuracy:  0.782608695652174\n"
          ]
        },
        {
          "output_type": "stream",
          "name": "stderr",
          "text": [
            "/usr/local/lib/python3.7/dist-packages/ipykernel_launcher.py:46: RuntimeWarning: divide by zero encountered in true_divide\n"
          ]
        }
      ],
      "source": [
        "from scipy.io.arff import loadarff \n",
        "import pandas as pd\n",
        "from sklearn.preprocessing import OrdinalEncoder\n",
        "from sklearn.preprocessing import MinMaxScaler\n",
        "# Load dataset and split into train/test sets\n",
        "raw_data = loadarff('/content/drive/MyDrive/School/CS_472_MachLearning/labs/lab4_kNN/data/credit_approval.arff')\n",
        "creditDF = pd.DataFrame(raw_data[0])\n",
        "\n",
        "cont_features = np.where(creditDF.dtypes == 'float64')[0]\n",
        "cat_features = np.where(creditDF.dtypes != 'float64')[0]\n",
        "creditDF.iloc[:, cont_features] = MinMaxScaler().fit_transform(creditDF.iloc[:, cont_features])\n",
        "\n",
        "\n",
        "np_arr = creditDF.to_numpy()\n",
        "\n",
        "# print(np_arr)\n",
        "\n",
        "enc = OrdinalEncoder()\n",
        "np_arr = enc.fit_transform(np_arr[:,cat_features])\n",
        "\n",
        "train, test = getSplit(np_arr,.7)\n",
        "\n",
        "X_train = train[:,:-1]\n",
        "y_train = train[:,-1].astype(int)\n",
        "X_test = test[:,:-1]\n",
        "y_test = test[:,-1].astype(int)\n",
        "\n",
        "col_type = ['cat','real','real','cat','cat','cat','cat','real','cat','cat','real','cat','cat','real','real','cat']\n",
        "# Train/Predict with normalization\n",
        "knn_wt = KNNClassifier(Type='classification',columntype=col_type,weight_type='inverse_distance')\n",
        "knn_wt.fit(X=X_train, y=y_train, k=7)\n",
        "\n",
        "# Train/Predict credit-approval\n",
        "print('inverse weighting accuracy: ', knn_wt.score(X=X_test,y=y_test))"
      ]
    },
    {
      "cell_type": "markdown",
      "metadata": {
        "id": "uFH-0kqTUR7F"
      },
      "source": [
        "*Explain and justify your distance metric*"
      ]
    },
    {
      "cell_type": "markdown",
      "source": [
        "as a distance metric, I choose for continuous data to use euclidean distance; for nominal data I choose to return distance=1 if the attributes are different or if there is missing data; if the nominal data attribute in the training set equals the attribute in the test instance then distance = 0. The justification for using euclidean distance for continuous data is that is what we were instructed to do. This method for computing nominal distances was chosen because it is the method that we discussed in class, and because it normalizes the difference between nominal data by giving a distance of 1 between different attributes and a distance of 0 between similar attributes. "
      ],
      "metadata": {
        "id": "4_-h3yY9o1jj"
      }
    },
    {
      "cell_type": "markdown",
      "metadata": {
        "id": "oBBmeNQ7jvcQ"
      },
      "source": [
        "## 6. (15%) Use the scikit's KNN Classifier on magic telescope and KNN Regressor on housing and compare your results.\n",
        "\n",
        "- Try out different hyperparameters to see how well you can do. \n"
      ]
    },
    {
      "cell_type": "code",
      "execution_count": 22,
      "metadata": {
        "id": "OFQv70W2VyqJ",
        "colab": {
          "base_uri": "https://localhost:8080/"
        },
        "outputId": "6cf7a4aa-02a4-4e7f-ca75-c32af7afbc9b"
      },
      "outputs": [
        {
          "output_type": "stream",
          "name": "stdout",
          "text": [
            "Best p: 1\n",
            "Best n_neighbors: 12\n",
            "Best weights: distance\n",
            "accuracy of best model:  0.8532853285328533\n"
          ]
        }
      ],
      "source": [
        "from scipy.io.arff import loadarff \n",
        "import pandas as pd\n",
        "from sklearn.preprocessing import LabelEncoder\n",
        "from sklearn.preprocessing import MinMaxScaler\n",
        "from sklearn.neighbors import KNeighborsClassifier\n",
        "from sklearn.model_selection import GridSearchCV\n",
        "# Train/Predict magic telescope using scikit's KNN\n",
        "  # load the data and preprocess\n",
        "raw_data = loadarff('/content/drive/MyDrive/School/CS_472_MachLearning/labs/lab4_kNN/data/magic_telescope_train.arff')\n",
        "df_data = pd.DataFrame(raw_data[0])\n",
        "\n",
        "np_arr = df_data.to_numpy()\n",
        "enc = LabelEncoder()\n",
        "scaler = MinMaxScaler()\n",
        "\n",
        "col_type = ['real']*14\n",
        "col_type[3] = 'cat'\n",
        "\n",
        "X_train = np_arr[:,:-1].astype(float)\n",
        "X_train = scaler.fit_transform(X_train)\n",
        "y_train = enc.fit_transform(np_arr[:,-1]) \n",
        "\n",
        "\n",
        "raw_data = loadarff('/content/drive/MyDrive/School/CS_472_MachLearning/labs/lab4_kNN/data/magic_telescope_test.arff')\n",
        "df_data = pd.DataFrame(raw_data[0])\n",
        "np_arr = df_data.to_numpy()\n",
        "\n",
        "X_test = np_arr[:,:-1].astype(float)\n",
        "X_test = scaler.transform(X_test)\n",
        "y_test = enc.fit_transform(np_arr[:,-1])\n",
        "\n",
        "  #initialize the model\n",
        "knn = KNeighborsClassifier()\n",
        "\n",
        "  #List Hyperparameters that we want to tune.\n",
        "# leaf_size = list(range(1,20))\n",
        "n_neighbors = list(range(1,13))\n",
        "p=[1,2]\n",
        "wts=['uniform', 'distance']\n",
        "\n",
        "  #Convert to dictionary\n",
        "hyperparameters = dict(weights=wts, n_neighbors=n_neighbors, p=p)\n",
        "  #Use GridSearch\n",
        "clf = GridSearchCV(knn, hyperparameters, cv=10)\n",
        "  #Fit the model\n",
        "best_model = clf.fit(X_train, y_train)\n",
        "  #Print The value of best Hyperparameters\n",
        "# print('Best leaf_size:', best_model.best_estimator_.get_params()['leaf_size'])\n",
        "print('Best p:', best_model.best_estimator_.get_params()['p']) # p: 1 --> manhattan; p:2 --> euclidean\n",
        "print('Best n_neighbors:', best_model.best_estimator_.get_params()['n_neighbors']) # best k\n",
        "print('Best weights:', best_model.best_estimator_.get_params()['weights']) # distance mean IDW, uniform means no weights\n",
        "\n",
        "print('accuracy of best model: ',best_model.score(X_test,y_test))"
      ]
    },
    {
      "cell_type": "code",
      "source": [
        "from scipy.io.arff import loadarff \n",
        "import pandas as pd\n",
        "from sklearn.preprocessing import LabelEncoder\n",
        "from sklearn.preprocessing import MinMaxScaler\n",
        "from sklearn.neighbors import KNeighborsRegressor\n",
        "from sklearn.model_selection import GridSearchCV\n",
        "# Train/Predict housing using scikit's KNN\n",
        "  # load the data and preprocess\n",
        "raw_data = loadarff('/content/drive/MyDrive/School/CS_472_MachLearning/labs/lab4_kNN/data/housing_train.arff')\n",
        "df_data = pd.DataFrame(raw_data[0])\n",
        "\n",
        "np_arr = df_data.to_numpy()\n",
        "scaler = MinMaxScaler()\n",
        "np_arr[:, :-1] = scaler.fit_transform(np_arr[:, :-1])\n",
        "\n",
        "X_train = np_arr[:,:-1].astype(float)\n",
        "y_train = np_arr[:,-1]\n",
        "\n",
        "raw_data = loadarff('/content/drive/MyDrive/School/CS_472_MachLearning/labs/lab4_kNN/data/housing_test.arff')\n",
        "df_data = pd.DataFrame(raw_data[0])\n",
        "np_arr = df_data.to_numpy()\n",
        "np_arr[:, :-1] = scaler.transform(np_arr[:, :-1])\n",
        "\n",
        "X_test = np_arr[:,:-1].astype(float)\n",
        "y_test = np_arr[:,-1]\n",
        "\n",
        "col_type = ['real']*14\n",
        "col_type[3] = 'cat'\n",
        "\n",
        "\n",
        "  #initialize the model\n",
        "knn_reg = KNeighborsRegressor()\n",
        "\n",
        "  #List Hyperparameters that we want to tune.\n",
        "# leaf_size = list(range(1,20))\n",
        "n_neighbors = list(range(1,20))\n",
        "p=[1,2]\n",
        "wts=['uniform', 'distance']\n",
        "\n",
        "  #Convert to dictionary\n",
        "hyperparameters = dict(weights=wts, n_neighbors=n_neighbors, p=p)\n",
        "  #Use GridSearch\n",
        "clf = GridSearchCV(knn_reg, hyperparameters, cv=10)\n",
        "  #Fit the model\n",
        "best_model = clf.fit(X_train, y_train)\n",
        "  #Print The value of best Hyperparameters\n",
        "# print('Best leaf_size:', best_model.best_estimator_.get_params()['leaf_size'])\n",
        "print('Best p:', best_model.best_estimator_.get_params()['p']) # p: 1 --> manhattan; p:2 --> euclidean\n",
        "print('Best n_neighbors:', best_model.best_estimator_.get_params()['n_neighbors']) # best k\n",
        "print('Best weights:', best_model.best_estimator_.get_params()['weights']) # distance mean IDW, uniform means no weights\n",
        "\n",
        "print('accuracy of best model: ',best_model.score(X_test,y_test))\n",
        "# for the gridsearch and printing I used code from here https://medium.datadriveninvestor.com/k-nearest-neighbors-in-python-hyperparameters-tuning-716734bc557f"
      ],
      "metadata": {
        "colab": {
          "base_uri": "https://localhost:8080/"
        },
        "id": "j_aQNFFSgXDN",
        "outputId": "9cb719b0-1871-4e7b-8cae-85497e9d4e30"
      },
      "execution_count": 30,
      "outputs": [
        {
          "output_type": "stream",
          "name": "stdout",
          "text": [
            "Best p: 1\n",
            "Best n_neighbors: 4\n",
            "Best weights: distance\n",
            "accuracy of best model:  0.8595764828109167\n"
          ]
        }
      ]
    },
    {
      "cell_type": "markdown",
      "metadata": {
        "id": "BqSFAXwlk3Ms"
      },
      "source": [
        "*Report your comparison*"
      ]
    },
    {
      "cell_type": "markdown",
      "source": [
        "For the KNN Classifier on the magic telescope data, I used a grid search to find the best hyperparameters of weight type (idw, uniform), distance type (p: manhattan, euclidean), and number of neighbors (k). It was found that for the magic telescope data with the KNNClassifier that the best distance type (p:1) for the model was manhattan distance, with k=12 neighbors, and inverse distance weighting. \n",
        "\n",
        "For the housing data I also used grid search to find the best hyperparameters which were also weight type (idw, uniform), distance type (p: manhattan, euclidean), and number of neighbors (k). For the housing data, the best model also used manhattan distance (p:1), k=4 nearest neighbors, and inverse distance weighting as well.\n",
        "\n",
        "I'll note that the KNNRegressor model on the housing data ran much quicker than the KNNClassifier did. The reason is probably that the classification has more computation steps than the regression does."
      ],
      "metadata": {
        "id": "8SkTFLknq-s-"
      }
    },
    {
      "cell_type": "markdown",
      "metadata": {
        "id": "cTlK-kijk8Mg"
      },
      "source": [
        "## 7. (optional 5% extra credit): For the best value of k for any one of the datasets, implement a reduction algorithm that removes data points in some rational way such that performance does not drop too drastically on the test set given the reduced training set.\n",
        "\n",
        "- Compare your performance on the test set for the reduced and non-reduced versions and give the number (and percentage) of training examples removed from the original training set. How well does your reduction algorithm work?\n",
        "    - Note that performance for magic telescope is classification accuracy and for housing it is mean squared error.\n",
        "    - Magic Telescope has about 12,000 instances and if you use a leave one out style of testing for your data set reduction, then your algorithm will run slow since that is n2 at each step.\n",
        "    - If you wish, you may use a random subset of 2,000 of the magic telescope instances.\n",
        "    - Examples of reduction techniques include: (a) leave-one-out reduction - Drop instance if it would still be classified correctly, (b) growth algorithm - Only add instance if it is not already classified correctly, (c) just keep central points, (d) just keep border points, etc. (see Wilson, D. R. and Martinez, T. R., Reduction Techniques for Exemplar-Based Learning Algorithms, Machine Learning Journal, vol. 38, no. 3, pp. 257-286, 2000)."
      ]
    }
  ],
  "metadata": {
    "colab": {
      "collapsed_sections": [],
      "name": "lab_4_knn.ipynb",
      "provenance": []
    },
    "kernelspec": {
      "display_name": "Python 3",
      "language": "python",
      "name": "python3"
    },
    "language_info": {
      "codemirror_mode": {
        "name": "ipython",
        "version": 3
      },
      "file_extension": ".py",
      "mimetype": "text/x-python",
      "name": "python",
      "nbconvert_exporter": "python",
      "pygments_lexer": "ipython3",
      "version": "3.9.0"
    }
  },
  "nbformat": 4,
  "nbformat_minor": 0
}